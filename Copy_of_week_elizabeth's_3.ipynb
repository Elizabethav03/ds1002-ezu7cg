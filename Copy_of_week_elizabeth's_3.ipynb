{
  "nbformat": 4,
  "nbformat_minor": 0,
  "metadata": {
    "colab": {
      "provenance": [],
      "include_colab_link": true
    },
    "kernelspec": {
      "name": "python3",
      "display_name": "Python 3"
    },
    "language_info": {
      "name": "python"
    }
  },
  "cells": [
    {
      "cell_type": "markdown",
      "metadata": {
        "id": "view-in-github",
        "colab_type": "text"
      },
      "source": [
        "<a href=\"https://colab.research.google.com/github/Elizabethav03/ds1002-ezu7cg/blob/main/Copy_of_week_elizabeth's_3.ipynb\" target=\"_parent\"><img src=\"https://colab.research.google.com/assets/colab-badge.svg\" alt=\"Open In Colab\"/></a>"
      ]
    },
    {
      "cell_type": "markdown",
      "source": [
        "# Homework - Week 3\n",
        "\n",
        "Complete the following blocks as specified in the directions. Run each cell to return the desired output. Save your notebook back to your GitHub repository and submit the GitHub URL for your notebook for grading."
      ],
      "metadata": {
        "id": "xJ6ZWHKXW4qY"
      }
    },
    {
      "cell_type": "markdown",
      "source": [
        "## 1. Variables\n",
        "\n",
        "Declare and populate three variables below. Be sure your code outputs each variable:\n",
        "\n",
        "1. Containing a string\n",
        "2. Containing a boolean\n",
        "3. Containing an integer"
      ],
      "metadata": {
        "id": "j0mCENI3XK2i"
      }
    },
    {
      "cell_type": "code",
      "execution_count": null,
      "metadata": {
        "id": "mdX0VBQgW1-9",
        "outputId": "7ba6813f-d6ce-4b8b-a612-9f53d0e7449a",
        "colab": {
          "base_uri": "https://localhost:8080/",
          "height": 35
        }
      },
      "outputs": [
        {
          "output_type": "execute_result",
          "data": {
            "text/plain": [
              "'Hey there friends!See you next year!'"
            ],
            "application/vnd.google.colaboratory.intrinsic+json": {
              "type": "string"
            }
          },
          "metadata": {},
          "execution_count": 3
        }
      ],
      "source": [
        "# Put answers below\n",
        "string1 = 'Hey there friends!'\n",
        "string2 = 'See you next year!'\n",
        "\n",
        "string1 + string2\n"
      ]
    },
    {
      "cell_type": "code",
      "source": [
        "# String\n",
        "string1 == string2"
      ],
      "metadata": {
        "id": "zPbGHNNOzBPr",
        "outputId": "5133e284-165e-4b67-ce22-b6ec243274c1",
        "colab": {
          "base_uri": "https://localhost:8080/"
        }
      },
      "execution_count": null,
      "outputs": [
        {
          "output_type": "execute_result",
          "data": {
            "text/plain": [
              "False"
            ]
          },
          "metadata": {},
          "execution_count": 4
        }
      ]
    },
    {
      "cell_type": "code",
      "source": [
        "# numeric work\n",
        "20 == 3 + 5"
      ],
      "metadata": {
        "id": "wbx-VjaDzTmp",
        "outputId": "09ed5342-9b9f-4847-fa90-747ccfaa487a",
        "colab": {
          "base_uri": "https://localhost:8080/"
        }
      },
      "execution_count": null,
      "outputs": [
        {
          "output_type": "execute_result",
          "data": {
            "text/plain": [
              "False"
            ]
          },
          "metadata": {},
          "execution_count": 5
        }
      ]
    },
    {
      "cell_type": "markdown",
      "source": [
        "## 2. String Manipulation\n",
        "\n",
        "Take the following string and, using python commands, show how to fulfill the requested task. Be sure your code outputs the requested data.\n",
        "\n",
        "String: \"Go Hoos, Beat JMU!\"\n",
        "\n",
        "1. Write a command that extracts the first 8 characters of the string.\n",
        "2. Write a command that extracts the last 4 characters of the string."
      ],
      "metadata": {
        "id": "atxtPF2-XXiW"
      }
    },
    {
      "cell_type": "code",
      "source": [
        "# string setup\n",
        "string1 = 'go hoos, beat JMU!'\n",
        "string1\n"
      ],
      "metadata": {
        "id": "2szfLXZcYC_7",
        "outputId": "77c7a28a-9ede-479e-8968-1f83d979c0fe",
        "colab": {
          "base_uri": "https://localhost:8080/",
          "height": 35
        }
      },
      "execution_count": null,
      "outputs": [
        {
          "output_type": "execute_result",
          "data": {
            "text/plain": [
              "'go hoos, beat JMU!'"
            ],
            "application/vnd.google.colaboratory.intrinsic+json": {
              "type": "string"
            }
          },
          "metadata": {},
          "execution_count": 14
        }
      ]
    },
    {
      "cell_type": "code",
      "source": [
        "# Extract the first 8 characters of the string\n",
        "string1 [:8]\n"
      ],
      "metadata": {
        "id": "FVVrYhDP1SCK",
        "outputId": "c40bcb7b-fb48-4d74-d1db-bb9b7fd71727",
        "colab": {
          "base_uri": "https://localhost:8080/",
          "height": 35
        }
      },
      "execution_count": null,
      "outputs": [
        {
          "output_type": "execute_result",
          "data": {
            "text/plain": [
              "'go hoos,'"
            ],
            "application/vnd.google.colaboratory.intrinsic+json": {
              "type": "string"
            }
          },
          "metadata": {},
          "execution_count": 15
        }
      ]
    },
    {
      "cell_type": "code",
      "source": [
        "# Extract the last 4 characters of the string\n",
        "string1 [-4:]"
      ],
      "metadata": {
        "id": "FEiyWsLv12aj",
        "outputId": "c15d23be-8e23-49d3-a862-6599384e3a7b",
        "colab": {
          "base_uri": "https://localhost:8080/",
          "height": 35
        }
      },
      "execution_count": null,
      "outputs": [
        {
          "output_type": "execute_result",
          "data": {
            "text/plain": [
              "'JMU!'"
            ],
            "application/vnd.google.colaboratory.intrinsic+json": {
              "type": "string"
            }
          },
          "metadata": {},
          "execution_count": 16
        }
      ]
    },
    {
      "cell_type": "markdown",
      "source": [
        "# 3. Concatenation\n",
        "\n",
        "1. Declare any two string variables and concatenate them.\n",
        "2. Declare a string parameter and concatenate another hard-coded phrase with it."
      ],
      "metadata": {
        "id": "GeXcT_9sYEdx"
      }
    },
    {
      "cell_type": "code",
      "source": [
        "# Declaring two string varibales and concatenate them\n",
        "string1 = 'Hey there friends!'\n",
        "string2 = 'See you next year!'\n",
        "\n",
        "string1 + string2\n"
      ],
      "metadata": {
        "id": "v3fvvKP4ZUvJ",
        "outputId": "efcdafba-8ae2-49ae-8db2-b8624c71f059",
        "colab": {
          "base_uri": "https://localhost:8080/",
          "height": 35
        }
      },
      "execution_count": null,
      "outputs": [
        {
          "output_type": "execute_result",
          "data": {
            "text/plain": [
              "'Hey there friends!See you next year!'"
            ],
            "application/vnd.google.colaboratory.intrinsic+json": {
              "type": "string"
            }
          },
          "metadata": {},
          "execution_count": 19
        }
      ]
    },
    {
      "cell_type": "code",
      "source": [
        "string1 + string2 + 'Hey again!'"
      ],
      "metadata": {
        "id": "qy4fD8yz4IyX",
        "outputId": "2bca9f44-b943-4b42-c299-7ad9ea7dcb61",
        "colab": {
          "base_uri": "https://localhost:8080/",
          "height": 35
        }
      },
      "execution_count": null,
      "outputs": [
        {
          "output_type": "execute_result",
          "data": {
            "text/plain": [
              "'Hey there friends!See you next year!Hey again!'"
            ],
            "application/vnd.google.colaboratory.intrinsic+json": {
              "type": "string"
            }
          },
          "metadata": {},
          "execution_count": 20
        }
      ]
    },
    {
      "cell_type": "code",
      "source": [
        "print (string1 + string2 + 'Hey again!')"
      ],
      "metadata": {
        "id": "BOEUBqUk4gBb",
        "outputId": "1b8d2bd7-4edc-49d1-88b3-175d7fe332b6",
        "colab": {
          "base_uri": "https://localhost:8080/"
        }
      },
      "execution_count": null,
      "outputs": [
        {
          "output_type": "stream",
          "name": "stdout",
          "text": [
            "Hey there friends!See you next year!Hey again!\n"
          ]
        }
      ]
    },
    {
      "cell_type": "markdown",
      "source": [
        "# 4. Math Operations\n",
        "\n",
        "Using the following numeric variables, write Python code that fulfills the requested operations. Be sure your code outputs the correct results.\n",
        "\n",
        "```python\n",
        "var1 = 9\n",
        "var2 = 12\n",
        "var3 = 48\n",
        "var4 = 4\n",
        "```\n",
        "\n",
        "1. Divide var3 by var2\n",
        "2. Multiply var1 by var4\n",
        "3. Write a Python expression that gives a result of `16`."
      ],
      "metadata": {
        "id": "DkVtHJBoYW34"
      }
    },
    {
      "cell_type": "code",
      "source": [
        "# Math operating practice\n",
        "a = 9\n",
        "b = 12\n",
        "c = 48\n",
        "d = 4\n"
      ],
      "metadata": {
        "id": "db5UdbrVZSiJ"
      },
      "execution_count": null,
      "outputs": []
    },
    {
      "cell_type": "code",
      "source": [
        "d= c/b\n",
        "d\n",
        "\n"
      ],
      "metadata": {
        "id": "F6Algj0RHTiS",
        "outputId": "0836d9a3-627a-4c22-bc68-4cebbd490de1",
        "colab": {
          "base_uri": "https://localhost:8080/"
        }
      },
      "execution_count": null,
      "outputs": [
        {
          "output_type": "execute_result",
          "data": {
            "text/plain": [
              "8.0"
            ]
          },
          "metadata": {},
          "execution_count": 54
        }
      ]
    },
    {
      "cell_type": "code",
      "source": [
        "9*4"
      ],
      "metadata": {
        "id": "E1vnF-voI7rW",
        "outputId": "da9c0c76-fcb8-4a00-f1bb-e512a8794f72",
        "colab": {
          "base_uri": "https://localhost:8080/"
        }
      },
      "execution_count": null,
      "outputs": [
        {
          "output_type": "execute_result",
          "data": {
            "text/plain": [
              "36"
            ]
          },
          "metadata": {},
          "execution_count": 46
        }
      ]
    },
    {
      "cell_type": "code",
      "source": [
        "a = 8\n",
        "b = 2\n",
        "c = 16"
      ],
      "metadata": {
        "id": "IfiX9QbYJHTI"
      },
      "execution_count": null,
      "outputs": []
    },
    {
      "cell_type": "code",
      "source": [
        "c = a * b\n",
        "c"
      ],
      "metadata": {
        "id": "MtjXezr-JNvr",
        "outputId": "bc51fc93-d909-4648-a2af-88db865abf86",
        "colab": {
          "base_uri": "https://localhost:8080/"
        }
      },
      "execution_count": null,
      "outputs": [
        {
          "output_type": "execute_result",
          "data": {
            "text/plain": [
              "16"
            ]
          },
          "metadata": {},
          "execution_count": 51
        }
      ]
    }
  ]
}