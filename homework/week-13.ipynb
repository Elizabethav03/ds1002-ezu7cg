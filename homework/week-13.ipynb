{
  "nbformat": 4,
  "nbformat_minor": 0,
  "metadata": {
    "colab": {
      "provenance": [],
      "include_colab_link": true
    },
    "kernelspec": {
      "name": "ir",
      "display_name": "R"
    },
    "language_info": {
      "name": "R"
    }
  },
  "cells": [
    {
      "cell_type": "markdown",
      "metadata": {
        "id": "view-in-github",
        "colab_type": "text"
      },
      "source": [
        "<a href=\"https://colab.research.google.com/github/Elizabethav03/ds1002-ezu7cg/blob/main/homework/week-13.ipynb\" target=\"_parent\"><img src=\"https://colab.research.google.com/assets/colab-badge.svg\" alt=\"Open In Colab\"/></a>"
      ]
    },
    {
      "cell_type": "markdown",
      "source": [
        "# Homework - Week 13\n",
        "\n",
        "Complete the following blocks as specified in the directions. Run each cell to return the desired output. Save your notebook back to your GitHub repository and submit the GitHub URL to your notebook for review."
      ],
      "metadata": {
        "id": "sZruw3XQogej"
      }
    },
    {
      "cell_type": "markdown",
      "source": [
        "## 1. Change Runtime to R (1 pt)\n",
        "\n",
        "Change the runtime of this notebook to R. You can verify that you are running R by displaying the current version you are running. Run the cell below and show the output."
      ],
      "metadata": {
        "id": "KmpG99aAokL9"
      }
    },
    {
      "cell_type": "code",
      "execution_count": 1,
      "metadata": {
        "id": "k03Z1NKAoZrW",
        "outputId": "f4b02453-da8d-42d4-f62d-4e67c7929937",
        "colab": {
          "base_uri": "https://localhost:8080/",
          "height": 285
        }
      },
      "outputs": [
        {
          "output_type": "display_data",
          "data": {
            "text/plain": [
              "               _                           \n",
              "platform       x86_64-pc-linux-gnu         \n",
              "arch           x86_64                      \n",
              "os             linux-gnu                   \n",
              "system         x86_64, linux-gnu           \n",
              "status                                     \n",
              "major          4                           \n",
              "minor          3.2                         \n",
              "year           2023                        \n",
              "month          10                          \n",
              "day            31                          \n",
              "svn rev        85441                       \n",
              "language       R                           \n",
              "version.string R version 4.3.2 (2023-10-31)\n",
              "nickname       Eye Holes                   "
            ]
          },
          "metadata": {}
        }
      ],
      "source": [
        "version"
      ]
    },
    {
      "cell_type": "markdown",
      "source": [
        "## 2. Create Vectors (2 pts)\n",
        "\n",
        "Create two vectors in the cells below, according to the prompts given."
      ],
      "metadata": {
        "id": "lkaofBQypx1X"
      }
    },
    {
      "cell_type": "code",
      "source": [
        "# create a vector with 7 integer values. Assign it to a variable named \"my_integers\"\n",
        "\"my_intgers\" <- c(18, 20, 22, 24, 26, 28, 30)\n",
        "my_intgers"
      ],
      "metadata": {
        "id": "1fjq5bkEp6Zv",
        "outputId": "a5437e09-9af1-411e-a94b-19d7340aa88e",
        "colab": {
          "base_uri": "https://localhost:8080/",
          "height": 34
        }
      },
      "execution_count": 3,
      "outputs": [
        {
          "output_type": "display_data",
          "data": {
            "text/html": [
              "<style>\n",
              ".list-inline {list-style: none; margin:0; padding: 0}\n",
              ".list-inline>li {display: inline-block}\n",
              ".list-inline>li:not(:last-child)::after {content: \"\\00b7\"; padding: 0 .5ex}\n",
              "</style>\n",
              "<ol class=list-inline><li>18</li><li>20</li><li>22</li><li>24</li><li>26</li><li>28</li><li>30</li></ol>\n"
            ],
            "text/markdown": "1. 18\n2. 20\n3. 22\n4. 24\n5. 26\n6. 28\n7. 30\n\n\n",
            "text/latex": "\\begin{enumerate*}\n\\item 18\n\\item 20\n\\item 22\n\\item 24\n\\item 26\n\\item 28\n\\item 30\n\\end{enumerate*}\n",
            "text/plain": [
              "[1] 18 20 22 24 26 28 30"
            ]
          },
          "metadata": {}
        }
      ]
    },
    {
      "cell_type": "code",
      "source": [
        "var1 = 8\n",
        "var2 = 4\n",
        "var3 = 12\n",
        "var4 = 25\n",
        "\n",
        "# Using the variables given above, assign three new variables the following calculated values:\n",
        "#\n",
        "# 1. Your first variable should be assigned the calculated value of var2 divided by var1.\n",
        "var5 <- var2 / var1\n",
        "# 2. Your second variable should be assigned the calculated value of var2 cubed times var3.\n",
        "var6 <- var2^3 * var3\n",
        "# 3. Your third variable should be assigned the calculated value of var4 integer divided by var3.\n",
        "var4 <- as.integer(24)\n",
        "var7 <- var4 / var3\n",
        "# Next, create an array populated by your three variables. Assign the array to a new variable named \"my_calculated_values\"\n",
        "\"my_calculated_values\" <- c(var5, var6, var7)\n",
        "my_calculated_values"
      ],
      "metadata": {
        "id": "f3IFD-T6p6Rd",
        "outputId": "4cd53ca9-18e9-4e29-9a6e-5faba31e60e5",
        "colab": {
          "base_uri": "https://localhost:8080/",
          "height": 34
        }
      },
      "execution_count": 4,
      "outputs": [
        {
          "output_type": "display_data",
          "data": {
            "text/html": [
              "<style>\n",
              ".list-inline {list-style: none; margin:0; padding: 0}\n",
              ".list-inline>li {display: inline-block}\n",
              ".list-inline>li:not(:last-child)::after {content: \"\\00b7\"; padding: 0 .5ex}\n",
              "</style>\n",
              "<ol class=list-inline><li>0.5</li><li>768</li><li>2</li></ol>\n"
            ],
            "text/markdown": "1. 0.5\n2. 768\n3. 2\n\n\n",
            "text/latex": "\\begin{enumerate*}\n\\item 0.5\n\\item 768\n\\item 2\n\\end{enumerate*}\n",
            "text/plain": [
              "[1]   0.5 768.0   2.0"
            ]
          },
          "metadata": {}
        }
      ]
    },
    {
      "cell_type": "markdown",
      "source": [
        "## 3. Vector Indexes (3 pts)"
      ],
      "metadata": {
        "id": "F6Rx0GIGrpOB"
      }
    },
    {
      "cell_type": "markdown",
      "source": [
        "In the cell below, create a vector that starts with the integer 4, that increments by counts of 3 all the way to 28.\n",
        "\n",
        "Assign the vector to a variable name."
      ],
      "metadata": {
        "id": "IDLyOjOJsFCX"
      }
    },
    {
      "cell_type": "code",
      "source": [
        "#\n",
        "special_names <- seq(4,28, by = 3)\n",
        "special_names"
      ],
      "metadata": {
        "id": "0D5Ia-BPsoPZ",
        "outputId": "a71f5c2e-0ae5-47c8-c03a-134754d68233",
        "colab": {
          "base_uri": "https://localhost:8080/",
          "height": 34
        }
      },
      "execution_count": 5,
      "outputs": [
        {
          "output_type": "display_data",
          "data": {
            "text/html": [
              "<style>\n",
              ".list-inline {list-style: none; margin:0; padding: 0}\n",
              ".list-inline>li {display: inline-block}\n",
              ".list-inline>li:not(:last-child)::after {content: \"\\00b7\"; padding: 0 .5ex}\n",
              "</style>\n",
              "<ol class=list-inline><li>4</li><li>7</li><li>10</li><li>13</li><li>16</li><li>19</li><li>22</li><li>25</li><li>28</li></ol>\n"
            ],
            "text/markdown": "1. 4\n2. 7\n3. 10\n4. 13\n5. 16\n6. 19\n7. 22\n8. 25\n9. 28\n\n\n",
            "text/latex": "\\begin{enumerate*}\n\\item 4\n\\item 7\n\\item 10\n\\item 13\n\\item 16\n\\item 19\n\\item 22\n\\item 25\n\\item 28\n\\end{enumerate*}\n",
            "text/plain": [
              "[1]  4  7 10 13 16 19 22 25 28"
            ]
          },
          "metadata": {}
        }
      ]
    },
    {
      "cell_type": "markdown",
      "source": [
        "Next, show how to display this vector with the 3 index removed."
      ],
      "metadata": {
        "id": "RxFRiRMvtfXI"
      }
    },
    {
      "cell_type": "code",
      "source": [
        "#\n",
        "special_names[-3]"
      ],
      "metadata": {
        "id": "MBg7V1LztQlv",
        "outputId": "02f0cbc0-ffba-477e-bd67-82775ac93282",
        "colab": {
          "base_uri": "https://localhost:8080/",
          "height": 34
        }
      },
      "execution_count": 8,
      "outputs": [
        {
          "output_type": "display_data",
          "data": {
            "text/html": [
              "<style>\n",
              ".list-inline {list-style: none; margin:0; padding: 0}\n",
              ".list-inline>li {display: inline-block}\n",
              ".list-inline>li:not(:last-child)::after {content: \"\\00b7\"; padding: 0 .5ex}\n",
              "</style>\n",
              "<ol class=list-inline><li>4</li><li>7</li><li>13</li><li>16</li><li>19</li><li>22</li><li>25</li><li>28</li></ol>\n"
            ],
            "text/markdown": "1. 4\n2. 7\n3. 13\n4. 16\n5. 19\n6. 22\n7. 25\n8. 28\n\n\n",
            "text/latex": "\\begin{enumerate*}\n\\item 4\n\\item 7\n\\item 13\n\\item 16\n\\item 19\n\\item 22\n\\item 25\n\\item 28\n\\end{enumerate*}\n",
            "text/plain": [
              "[1]  4  7 13 16 19 22 25 28"
            ]
          },
          "metadata": {}
        }
      ]
    },
    {
      "cell_type": "markdown",
      "source": [
        "Finally, show how to delete the 4th, 5th, and 7th indexes from the vector and update the vector so they are forever removed from the vector.\n",
        "\n",
        "Hint: there is a fairly simple way to do this in one line, such that you don't have to run a separate command for each removal."
      ],
      "metadata": {
        "id": "Rmci-rVCtq-C"
      }
    },
    {
      "cell_type": "code",
      "source": [
        "#\n",
        "special_names[-c(4, 5, 7)]"
      ],
      "metadata": {
        "id": "y1k0NHNruFX2",
        "outputId": "33897ae6-4ace-437f-cb12-74ea0d7e6345",
        "colab": {
          "base_uri": "https://localhost:8080/",
          "height": 34
        }
      },
      "execution_count": 9,
      "outputs": [
        {
          "output_type": "display_data",
          "data": {
            "text/html": [
              "<style>\n",
              ".list-inline {list-style: none; margin:0; padding: 0}\n",
              ".list-inline>li {display: inline-block}\n",
              ".list-inline>li:not(:last-child)::after {content: \"\\00b7\"; padding: 0 .5ex}\n",
              "</style>\n",
              "<ol class=list-inline><li>4</li><li>7</li><li>10</li><li>19</li><li>25</li><li>28</li></ol>\n"
            ],
            "text/markdown": "1. 4\n2. 7\n3. 10\n4. 19\n5. 25\n6. 28\n\n\n",
            "text/latex": "\\begin{enumerate*}\n\\item 4\n\\item 7\n\\item 10\n\\item 19\n\\item 25\n\\item 28\n\\end{enumerate*}\n",
            "text/plain": [
              "[1]  4  7 10 19 25 28"
            ]
          },
          "metadata": {}
        }
      ]
    },
    {
      "cell_type": "markdown",
      "source": [
        "## 4. Create a Data Frame (3 pts)\n",
        "\n",
        "In the cell below create a data frame with 10 observations (rows) and 5 variables (columns) each. This data frame will describe some of your favorite musical performers. You can use real or fictitious data to populate your data frame.\n",
        "\n",
        "Variables:\n",
        "  - `artist` - Artist or band name\n",
        "  - `category` - Rock, Pop, Country, Hip-hop, Jazz, Classical, Soul, Other. (Try to distribute your selections here)\n",
        "  - `size` - (number of members, 1-?)\n",
        "  - `start` - Debut year of artist.\n",
        "  - `grammy` - Grammmy winner? `TRUE` | `FALSE`\n",
        "\n",
        "First create vectors for each variable populated with your own performer data. Then create a data frame from these vectors (be sure to assign column names too) and assign it to a named variable such as `df`."
      ],
      "metadata": {
        "id": "-2ZaFcCCv3o8"
      }
    },
    {
      "cell_type": "code",
      "source": [
        "#\n",
        "artist <- c(\"Taylor Swift\", \"Gracie Abrams\", \"Bad Bunny\", \"Shakira\", \"Olivia Rodrigo\", \"Rauw Alejandro\", \"Karol g\", \"Lorde\", \"Sabrina Carpenter\", \"LANY\")\n",
        "category <- c(\"pop\", \"pop\", \"reggaeton\", \"reggaeton\", \"pop\", \"reggaeton\", \"reggaeton\", \"pop\", \"pop\", \"pop\")\n",
        "size <- c(1, 1, 1, 1, 1, 1, 1, 1, 1, 3)\n",
        "start <- c(2006, 2019, 2018, 1990, 2021, 2016, 2007, 2013, 2014, 2014)\n",
        "grammy <- c(TRUE, FALSE, TRUE, TRUE, TRUE, FALSE, FALSE, TRUE , FALSE, FALSE)\n",
        "df <- data.frame(artist = artist, category = category, size = size, start = start, grammy = grammy)\n"
      ],
      "metadata": {
        "id": "V4nBsdVsyauQ"
      },
      "execution_count": 15,
      "outputs": []
    },
    {
      "cell_type": "code",
      "source": [
        "df"
      ],
      "metadata": {
        "id": "uASywgkUcmsY",
        "outputId": "35f5f8d6-d9f4-4d74-a41d-06d78a6f1675",
        "colab": {
          "base_uri": "https://localhost:8080/",
          "height": 412
        }
      },
      "execution_count": 16,
      "outputs": [
        {
          "output_type": "display_data",
          "data": {
            "text/html": [
              "<table class=\"dataframe\">\n",
              "<caption>A data.frame: 10 × 5</caption>\n",
              "<thead>\n",
              "\t<tr><th scope=col>artist</th><th scope=col>category</th><th scope=col>size</th><th scope=col>start</th><th scope=col>grammy</th></tr>\n",
              "\t<tr><th scope=col>&lt;chr&gt;</th><th scope=col>&lt;chr&gt;</th><th scope=col>&lt;dbl&gt;</th><th scope=col>&lt;dbl&gt;</th><th scope=col>&lt;lgl&gt;</th></tr>\n",
              "</thead>\n",
              "<tbody>\n",
              "\t<tr><td>Taylor Swift     </td><td>pop      </td><td>1</td><td>2006</td><td> TRUE</td></tr>\n",
              "\t<tr><td>Gracie Abrams    </td><td>pop      </td><td>1</td><td>2019</td><td>FALSE</td></tr>\n",
              "\t<tr><td>Bad Bunny        </td><td>reggaeton</td><td>1</td><td>2018</td><td> TRUE</td></tr>\n",
              "\t<tr><td>Shakira          </td><td>reggaeton</td><td>1</td><td>1990</td><td> TRUE</td></tr>\n",
              "\t<tr><td>Olivia Rodrigo   </td><td>pop      </td><td>1</td><td>2021</td><td> TRUE</td></tr>\n",
              "\t<tr><td>Rauw Alejandro   </td><td>reggaeton</td><td>1</td><td>2016</td><td>FALSE</td></tr>\n",
              "\t<tr><td>Karol g          </td><td>reggaeton</td><td>1</td><td>2007</td><td>FALSE</td></tr>\n",
              "\t<tr><td>Lorde            </td><td>pop      </td><td>1</td><td>2013</td><td> TRUE</td></tr>\n",
              "\t<tr><td>Sabrina Carpenter</td><td>pop      </td><td>1</td><td>2014</td><td>FALSE</td></tr>\n",
              "\t<tr><td>LANY             </td><td>pop      </td><td>3</td><td>2014</td><td>FALSE</td></tr>\n",
              "</tbody>\n",
              "</table>\n"
            ],
            "text/markdown": "\nA data.frame: 10 × 5\n\n| artist &lt;chr&gt; | category &lt;chr&gt; | size &lt;dbl&gt; | start &lt;dbl&gt; | grammy &lt;lgl&gt; |\n|---|---|---|---|---|\n| Taylor Swift      | pop       | 1 | 2006 |  TRUE |\n| Gracie Abrams     | pop       | 1 | 2019 | FALSE |\n| Bad Bunny         | reggaeton | 1 | 2018 |  TRUE |\n| Shakira           | reggaeton | 1 | 1990 |  TRUE |\n| Olivia Rodrigo    | pop       | 1 | 2021 |  TRUE |\n| Rauw Alejandro    | reggaeton | 1 | 2016 | FALSE |\n| Karol g           | reggaeton | 1 | 2007 | FALSE |\n| Lorde             | pop       | 1 | 2013 |  TRUE |\n| Sabrina Carpenter | pop       | 1 | 2014 | FALSE |\n| LANY              | pop       | 3 | 2014 | FALSE |\n\n",
            "text/latex": "A data.frame: 10 × 5\n\\begin{tabular}{lllll}\n artist & category & size & start & grammy\\\\\n <chr> & <chr> & <dbl> & <dbl> & <lgl>\\\\\n\\hline\n\t Taylor Swift      & pop       & 1 & 2006 &  TRUE\\\\\n\t Gracie Abrams     & pop       & 1 & 2019 & FALSE\\\\\n\t Bad Bunny         & reggaeton & 1 & 2018 &  TRUE\\\\\n\t Shakira           & reggaeton & 1 & 1990 &  TRUE\\\\\n\t Olivia Rodrigo    & pop       & 1 & 2021 &  TRUE\\\\\n\t Rauw Alejandro    & reggaeton & 1 & 2016 & FALSE\\\\\n\t Karol g           & reggaeton & 1 & 2007 & FALSE\\\\\n\t Lorde             & pop       & 1 & 2013 &  TRUE\\\\\n\t Sabrina Carpenter & pop       & 1 & 2014 & FALSE\\\\\n\t LANY              & pop       & 3 & 2014 & FALSE\\\\\n\\end{tabular}\n",
            "text/plain": [
              "   artist            category  size start grammy\n",
              "1  Taylor Swift      pop       1    2006   TRUE \n",
              "2  Gracie Abrams     pop       1    2019  FALSE \n",
              "3  Bad Bunny         reggaeton 1    2018   TRUE \n",
              "4  Shakira           reggaeton 1    1990   TRUE \n",
              "5  Olivia Rodrigo    pop       1    2021   TRUE \n",
              "6  Rauw Alejandro    reggaeton 1    2016  FALSE \n",
              "7  Karol g           reggaeton 1    2007  FALSE \n",
              "8  Lorde             pop       1    2013   TRUE \n",
              "9  Sabrina Carpenter pop       1    2014  FALSE \n",
              "10 LANY              pop       3    2014  FALSE "
            ]
          },
          "metadata": {}
        }
      ]
    },
    {
      "cell_type": "markdown",
      "source": [
        "## 5. Filter/Query a Data Frame (2 pts)\n",
        "\n",
        "Use the data frame you created above and show how to perform the following queries."
      ],
      "metadata": {
        "id": "nG5m-FIRydNU"
      }
    },
    {
      "cell_type": "code",
      "source": [
        "# Display the first 3 records and only the `artist`, `category` and `grammy` columns for each.\n",
        "df <- data.frame(Artist = artist, Category = category, Grammy = grammy)\n",
        "df"
      ],
      "metadata": {
        "id": "OlmbfFi6zSgR",
        "outputId": "bac463bd-2aac-48fc-eccf-0debcfb63640",
        "colab": {
          "base_uri": "https://localhost:8080/",
          "height": 412
        }
      },
      "execution_count": 22,
      "outputs": [
        {
          "output_type": "display_data",
          "data": {
            "text/html": [
              "<table class=\"dataframe\">\n",
              "<caption>A data.frame: 10 × 3</caption>\n",
              "<thead>\n",
              "\t<tr><th scope=col>Artist</th><th scope=col>Category</th><th scope=col>Grammy</th></tr>\n",
              "\t<tr><th scope=col>&lt;chr&gt;</th><th scope=col>&lt;chr&gt;</th><th scope=col>&lt;lgl&gt;</th></tr>\n",
              "</thead>\n",
              "<tbody>\n",
              "\t<tr><td>Taylor Swift     </td><td>pop      </td><td> TRUE</td></tr>\n",
              "\t<tr><td>Gracie Abrams    </td><td>pop      </td><td>FALSE</td></tr>\n",
              "\t<tr><td>Bad Bunny        </td><td>reggaeton</td><td> TRUE</td></tr>\n",
              "\t<tr><td>Shakira          </td><td>reggaeton</td><td> TRUE</td></tr>\n",
              "\t<tr><td>Olivia Rodrigo   </td><td>pop      </td><td> TRUE</td></tr>\n",
              "\t<tr><td>Rauw Alejandro   </td><td>reggaeton</td><td>FALSE</td></tr>\n",
              "\t<tr><td>Karol g          </td><td>reggaeton</td><td>FALSE</td></tr>\n",
              "\t<tr><td>Lorde            </td><td>pop      </td><td> TRUE</td></tr>\n",
              "\t<tr><td>Sabrina Carpenter</td><td>pop      </td><td>FALSE</td></tr>\n",
              "\t<tr><td>LANY             </td><td>pop      </td><td>FALSE</td></tr>\n",
              "</tbody>\n",
              "</table>\n"
            ],
            "text/markdown": "\nA data.frame: 10 × 3\n\n| Artist &lt;chr&gt; | Category &lt;chr&gt; | Grammy &lt;lgl&gt; |\n|---|---|---|\n| Taylor Swift      | pop       |  TRUE |\n| Gracie Abrams     | pop       | FALSE |\n| Bad Bunny         | reggaeton |  TRUE |\n| Shakira           | reggaeton |  TRUE |\n| Olivia Rodrigo    | pop       |  TRUE |\n| Rauw Alejandro    | reggaeton | FALSE |\n| Karol g           | reggaeton | FALSE |\n| Lorde             | pop       |  TRUE |\n| Sabrina Carpenter | pop       | FALSE |\n| LANY              | pop       | FALSE |\n\n",
            "text/latex": "A data.frame: 10 × 3\n\\begin{tabular}{lll}\n Artist & Category & Grammy\\\\\n <chr> & <chr> & <lgl>\\\\\n\\hline\n\t Taylor Swift      & pop       &  TRUE\\\\\n\t Gracie Abrams     & pop       & FALSE\\\\\n\t Bad Bunny         & reggaeton &  TRUE\\\\\n\t Shakira           & reggaeton &  TRUE\\\\\n\t Olivia Rodrigo    & pop       &  TRUE\\\\\n\t Rauw Alejandro    & reggaeton & FALSE\\\\\n\t Karol g           & reggaeton & FALSE\\\\\n\t Lorde             & pop       &  TRUE\\\\\n\t Sabrina Carpenter & pop       & FALSE\\\\\n\t LANY              & pop       & FALSE\\\\\n\\end{tabular}\n",
            "text/plain": [
              "   Artist            Category  Grammy\n",
              "1  Taylor Swift      pop        TRUE \n",
              "2  Gracie Abrams     pop       FALSE \n",
              "3  Bad Bunny         reggaeton  TRUE \n",
              "4  Shakira           reggaeton  TRUE \n",
              "5  Olivia Rodrigo    pop        TRUE \n",
              "6  Rauw Alejandro    reggaeton FALSE \n",
              "7  Karol g           reggaeton FALSE \n",
              "8  Lorde             pop        TRUE \n",
              "9  Sabrina Carpenter pop       FALSE \n",
              "10 LANY              pop       FALSE "
            ]
          },
          "metadata": {}
        }
      ]
    },
    {
      "cell_type": "code",
      "source": [
        "# Display the records for just one musical category, such as only Rock bands or only Hip-hop bands.\n",
        "pop_singers = df[df['Category'] == 'pop',]\n",
        "pop_singers"
      ],
      "metadata": {
        "id": "-l_kpWSzzlhG",
        "outputId": "8beb3ab8-0632-45ae-e695-a3ef747d20c4",
        "colab": {
          "base_uri": "https://localhost:8080/",
          "height": 286
        }
      },
      "execution_count": 28,
      "outputs": [
        {
          "output_type": "display_data",
          "data": {
            "text/html": [
              "<table class=\"dataframe\">\n",
              "<caption>A data.frame: 6 × 3</caption>\n",
              "<thead>\n",
              "\t<tr><th></th><th scope=col>Artist</th><th scope=col>Category</th><th scope=col>Grammy</th></tr>\n",
              "\t<tr><th></th><th scope=col>&lt;chr&gt;</th><th scope=col>&lt;chr&gt;</th><th scope=col>&lt;lgl&gt;</th></tr>\n",
              "</thead>\n",
              "<tbody>\n",
              "\t<tr><th scope=row>1</th><td>Taylor Swift     </td><td>pop</td><td> TRUE</td></tr>\n",
              "\t<tr><th scope=row>2</th><td>Gracie Abrams    </td><td>pop</td><td>FALSE</td></tr>\n",
              "\t<tr><th scope=row>5</th><td>Olivia Rodrigo   </td><td>pop</td><td> TRUE</td></tr>\n",
              "\t<tr><th scope=row>8</th><td>Lorde            </td><td>pop</td><td> TRUE</td></tr>\n",
              "\t<tr><th scope=row>9</th><td>Sabrina Carpenter</td><td>pop</td><td>FALSE</td></tr>\n",
              "\t<tr><th scope=row>10</th><td>LANY             </td><td>pop</td><td>FALSE</td></tr>\n",
              "</tbody>\n",
              "</table>\n"
            ],
            "text/markdown": "\nA data.frame: 6 × 3\n\n| <!--/--> | Artist &lt;chr&gt; | Category &lt;chr&gt; | Grammy &lt;lgl&gt; |\n|---|---|---|---|\n| 1 | Taylor Swift      | pop |  TRUE |\n| 2 | Gracie Abrams     | pop | FALSE |\n| 5 | Olivia Rodrigo    | pop |  TRUE |\n| 8 | Lorde             | pop |  TRUE |\n| 9 | Sabrina Carpenter | pop | FALSE |\n| 10 | LANY              | pop | FALSE |\n\n",
            "text/latex": "A data.frame: 6 × 3\n\\begin{tabular}{r|lll}\n  & Artist & Category & Grammy\\\\\n  & <chr> & <chr> & <lgl>\\\\\n\\hline\n\t1 & Taylor Swift      & pop &  TRUE\\\\\n\t2 & Gracie Abrams     & pop & FALSE\\\\\n\t5 & Olivia Rodrigo    & pop &  TRUE\\\\\n\t8 & Lorde             & pop &  TRUE\\\\\n\t9 & Sabrina Carpenter & pop & FALSE\\\\\n\t10 & LANY              & pop & FALSE\\\\\n\\end{tabular}\n",
            "text/plain": [
              "   Artist            Category Grammy\n",
              "1  Taylor Swift      pop       TRUE \n",
              "2  Gracie Abrams     pop      FALSE \n",
              "5  Olivia Rodrigo    pop       TRUE \n",
              "8  Lorde             pop       TRUE \n",
              "9  Sabrina Carpenter pop      FALSE \n",
              "10 LANY              pop      FALSE "
            ]
          },
          "metadata": {}
        }
      ]
    },
    {
      "cell_type": "markdown",
      "source": [
        "## Query a Data Frame using `tidyverse` (4 pts)\n",
        "\n",
        "1. Show how to load the library.\n",
        "2. Show how to glimpse basic features of the `starwars` data table.\n",
        "3. Create a query using tidyverse that retrieves the following data:\n",
        "    - Selects only these columns: `name`, `height`, `sex`, `species`.\n",
        "    - Filters for all species that are NOT Human.\n",
        "    - Arranges the resulting data in order by name.\n",
        "\n",
        "Show your output in a data frame."
      ],
      "metadata": {
        "id": "L-xnszjS0Byy"
      }
    },
    {
      "cell_type": "code",
      "source": [
        "# Show how to load the library\n",
        "install.packages(\"tidyverse\")\n",
        "library(tidyverse)"
      ],
      "metadata": {
        "id": "yTMLzrxS0F4u",
        "outputId": "76b02595-aa54-4009-883d-2dabac3b78fa",
        "colab": {
          "base_uri": "https://localhost:8080/"
        }
      },
      "execution_count": 31,
      "outputs": [
        {
          "output_type": "stream",
          "name": "stderr",
          "text": [
            "Installing package into ‘/usr/local/lib/R/site-library’\n",
            "(as ‘lib’ is unspecified)\n",
            "\n",
            "── \u001b[1mAttaching core tidyverse packages\u001b[22m ──────────────────────── tidyverse 2.0.0 ──\n",
            "\u001b[32m✔\u001b[39m \u001b[34mdplyr    \u001b[39m 1.1.3     \u001b[32m✔\u001b[39m \u001b[34mreadr    \u001b[39m 2.1.4\n",
            "\u001b[32m✔\u001b[39m \u001b[34mforcats  \u001b[39m 1.0.0     \u001b[32m✔\u001b[39m \u001b[34mstringr  \u001b[39m 1.5.0\n",
            "\u001b[32m✔\u001b[39m \u001b[34mggplot2  \u001b[39m 3.4.4     \u001b[32m✔\u001b[39m \u001b[34mtibble   \u001b[39m 3.2.1\n",
            "\u001b[32m✔\u001b[39m \u001b[34mlubridate\u001b[39m 1.9.3     \u001b[32m✔\u001b[39m \u001b[34mtidyr    \u001b[39m 1.3.0\n",
            "\u001b[32m✔\u001b[39m \u001b[34mpurrr    \u001b[39m 1.0.2     \n",
            "── \u001b[1mConflicts\u001b[22m ────────────────────────────────────────── tidyverse_conflicts() ──\n",
            "\u001b[31m✖\u001b[39m \u001b[34mdplyr\u001b[39m::\u001b[32mfilter()\u001b[39m masks \u001b[34mstats\u001b[39m::filter()\n",
            "\u001b[31m✖\u001b[39m \u001b[34mdplyr\u001b[39m::\u001b[32mlag()\u001b[39m    masks \u001b[34mstats\u001b[39m::lag()\n",
            "\u001b[36mℹ\u001b[39m Use the conflicted package (\u001b[3m\u001b[34m<http://conflicted.r-lib.org/>\u001b[39m\u001b[23m) to force all conflicts to become errors\n"
          ]
        }
      ]
    },
    {
      "cell_type": "code",
      "source": [
        "# Show how to glimpse basic features of the starwars data table\n",
        "data()"
      ],
      "metadata": {
        "id": "FCC1_DCihPSE"
      },
      "execution_count": 43,
      "outputs": []
    },
    {
      "cell_type": "code",
      "source": [
        "str(starwars)"
      ],
      "metadata": {
        "id": "At4o-WC0iIdL",
        "outputId": "326c9c61-3c23-4ae0-a5e1-5cd7795cfa0e",
        "colab": {
          "base_uri": "https://localhost:8080/"
        }
      },
      "execution_count": 33,
      "outputs": [
        {
          "output_type": "stream",
          "name": "stdout",
          "text": [
            "tibble [87 × 14] (S3: tbl_df/tbl/data.frame)\n",
            " $ name      : chr [1:87] \"Luke Skywalker\" \"C-3PO\" \"R2-D2\" \"Darth Vader\" ...\n",
            " $ height    : int [1:87] 172 167 96 202 150 178 165 97 183 182 ...\n",
            " $ mass      : num [1:87] 77 75 32 136 49 120 75 32 84 77 ...\n",
            " $ hair_color: chr [1:87] \"blond\" NA NA \"none\" ...\n",
            " $ skin_color: chr [1:87] \"fair\" \"gold\" \"white, blue\" \"white\" ...\n",
            " $ eye_color : chr [1:87] \"blue\" \"yellow\" \"red\" \"yellow\" ...\n",
            " $ birth_year: num [1:87] 19 112 33 41.9 19 52 47 NA 24 57 ...\n",
            " $ sex       : chr [1:87] \"male\" \"none\" \"none\" \"male\" ...\n",
            " $ gender    : chr [1:87] \"masculine\" \"masculine\" \"masculine\" \"masculine\" ...\n",
            " $ homeworld : chr [1:87] \"Tatooine\" \"Tatooine\" \"Naboo\" \"Tatooine\" ...\n",
            " $ species   : chr [1:87] \"Human\" \"Droid\" \"Droid\" \"Human\" ...\n",
            " $ films     :List of 87\n",
            "  ..$ : chr [1:5] \"The Empire Strikes Back\" \"Revenge of the Sith\" \"Return of the Jedi\" \"A New Hope\" ...\n",
            "  ..$ : chr [1:6] \"The Empire Strikes Back\" \"Attack of the Clones\" \"The Phantom Menace\" \"Revenge of the Sith\" ...\n",
            "  ..$ : chr [1:7] \"The Empire Strikes Back\" \"Attack of the Clones\" \"The Phantom Menace\" \"Revenge of the Sith\" ...\n",
            "  ..$ : chr [1:4] \"The Empire Strikes Back\" \"Revenge of the Sith\" \"Return of the Jedi\" \"A New Hope\"\n",
            "  ..$ : chr [1:5] \"The Empire Strikes Back\" \"Revenge of the Sith\" \"Return of the Jedi\" \"A New Hope\" ...\n",
            "  ..$ : chr [1:3] \"Attack of the Clones\" \"Revenge of the Sith\" \"A New Hope\"\n",
            "  ..$ : chr [1:3] \"Attack of the Clones\" \"Revenge of the Sith\" \"A New Hope\"\n",
            "  ..$ : chr \"A New Hope\"\n",
            "  ..$ : chr \"A New Hope\"\n",
            "  ..$ : chr [1:6] \"The Empire Strikes Back\" \"Attack of the Clones\" \"The Phantom Menace\" \"Revenge of the Sith\" ...\n",
            "  ..$ : chr [1:3] \"Attack of the Clones\" \"The Phantom Menace\" \"Revenge of the Sith\"\n",
            "  ..$ : chr [1:2] \"Revenge of the Sith\" \"A New Hope\"\n",
            "  ..$ : chr [1:5] \"The Empire Strikes Back\" \"Revenge of the Sith\" \"Return of the Jedi\" \"A New Hope\" ...\n",
            "  ..$ : chr [1:4] \"The Empire Strikes Back\" \"Return of the Jedi\" \"A New Hope\" \"The Force Awakens\"\n",
            "  ..$ : chr \"A New Hope\"\n",
            "  ..$ : chr [1:3] \"The Phantom Menace\" \"Return of the Jedi\" \"A New Hope\"\n",
            "  ..$ : chr [1:3] \"The Empire Strikes Back\" \"Return of the Jedi\" \"A New Hope\"\n",
            "  ..$ : chr \"A New Hope\"\n",
            "  ..$ : chr [1:5] \"The Empire Strikes Back\" \"Attack of the Clones\" \"The Phantom Menace\" \"Revenge of the Sith\" ...\n",
            "  ..$ : chr [1:5] \"The Empire Strikes Back\" \"Attack of the Clones\" \"The Phantom Menace\" \"Revenge of the Sith\" ...\n",
            "  ..$ : chr [1:3] \"The Empire Strikes Back\" \"Attack of the Clones\" \"Return of the Jedi\"\n",
            "  ..$ : chr \"The Empire Strikes Back\"\n",
            "  ..$ : chr \"The Empire Strikes Back\"\n",
            "  ..$ : chr [1:2] \"The Empire Strikes Back\" \"Return of the Jedi\"\n",
            "  ..$ : chr \"The Empire Strikes Back\"\n",
            "  ..$ : chr [1:2] \"Return of the Jedi\" \"The Force Awakens\"\n",
            "  ..$ : chr \"Return of the Jedi\"\n",
            "  ..$ : chr \"Return of the Jedi\"\n",
            "  ..$ : chr \"Return of the Jedi\"\n",
            "  ..$ : chr \"Return of the Jedi\"\n",
            "  ..$ : chr \"The Phantom Menace\"\n",
            "  ..$ : chr [1:3] \"Attack of the Clones\" \"The Phantom Menace\" \"Revenge of the Sith\"\n",
            "  ..$ : chr \"The Phantom Menace\"\n",
            "  ..$ : chr [1:2] \"Attack of the Clones\" \"The Phantom Menace\"\n",
            "  ..$ : chr \"The Phantom Menace\"\n",
            "  ..$ : chr \"The Phantom Menace\"\n",
            "  ..$ : chr \"The Phantom Menace\"\n",
            "  ..$ : chr [1:2] \"Attack of the Clones\" \"The Phantom Menace\"\n",
            "  ..$ : chr \"The Phantom Menace\"\n",
            "  ..$ : chr \"The Phantom Menace\"\n",
            "  ..$ : chr [1:2] \"Attack of the Clones\" \"The Phantom Menace\"\n",
            "  ..$ : chr \"The Phantom Menace\"\n",
            "  ..$ : chr \"Return of the Jedi\"\n",
            "  ..$ : chr [1:3] \"Attack of the Clones\" \"The Phantom Menace\" \"Revenge of the Sith\"\n",
            "  ..$ : chr \"The Phantom Menace\"\n",
            "  ..$ : chr \"The Phantom Menace\"\n",
            "  ..$ : chr \"The Phantom Menace\"\n",
            "  ..$ : chr [1:3] \"Attack of the Clones\" \"The Phantom Menace\" \"Revenge of the Sith\"\n",
            "  ..$ : chr [1:3] \"Attack of the Clones\" \"The Phantom Menace\" \"Revenge of the Sith\"\n",
            "  ..$ : chr [1:3] \"Attack of the Clones\" \"The Phantom Menace\" \"Revenge of the Sith\"\n",
            "  ..$ : chr [1:2] \"The Phantom Menace\" \"Revenge of the Sith\"\n",
            "  ..$ : chr [1:2] \"The Phantom Menace\" \"Revenge of the Sith\"\n",
            "  ..$ : chr [1:2] \"The Phantom Menace\" \"Revenge of the Sith\"\n",
            "  ..$ : chr \"The Phantom Menace\"\n",
            "  ..$ : chr [1:3] \"Attack of the Clones\" \"The Phantom Menace\" \"Revenge of the Sith\"\n",
            "  ..$ : chr [1:2] \"Attack of the Clones\" \"The Phantom Menace\"\n",
            "  ..$ : chr \"Attack of the Clones\"\n",
            "  ..$ : chr \"Attack of the Clones\"\n",
            "  ..$ : chr \"Attack of the Clones\"\n",
            "  ..$ : chr [1:2] \"Attack of the Clones\" \"Revenge of the Sith\"\n",
            "  ..$ : chr [1:2] \"Attack of the Clones\" \"Revenge of the Sith\"\n",
            "  ..$ : chr \"Attack of the Clones\"\n",
            "  ..$ : chr \"Attack of the Clones\"\n",
            "  ..$ : chr [1:2] \"Attack of the Clones\" \"Revenge of the Sith\"\n",
            "  ..$ : chr [1:2] \"Attack of the Clones\" \"Revenge of the Sith\"\n",
            "  ..$ : chr \"Attack of the Clones\"\n",
            "  ..$ : chr \"Attack of the Clones\"\n",
            "  ..$ : chr \"Attack of the Clones\"\n",
            "  ..$ : chr \"Attack of the Clones\"\n",
            "  ..$ : chr \"Attack of the Clones\"\n",
            "  ..$ : chr \"Attack of the Clones\"\n",
            "  ..$ : chr \"The Phantom Menace\"\n",
            "  ..$ : chr [1:2] \"Attack of the Clones\" \"Revenge of the Sith\"\n",
            "  ..$ : chr \"Attack of the Clones\"\n",
            "  ..$ : chr \"Attack of the Clones\"\n",
            "  ..$ : chr [1:2] \"Attack of the Clones\" \"Revenge of the Sith\"\n",
            "  ..$ : chr \"Revenge of the Sith\"\n",
            "  ..$ : chr \"Revenge of the Sith\"\n",
            "  ..$ : chr [1:2] \"Revenge of the Sith\" \"A New Hope\"\n",
            "  ..$ : chr [1:2] \"Attack of the Clones\" \"Revenge of the Sith\"\n",
            "  ..$ : chr \"Revenge of the Sith\"\n",
            "  ..$ : chr \"The Force Awakens\"\n",
            "  ..$ : chr \"The Force Awakens\"\n",
            "  ..$ : chr \"The Force Awakens\"\n",
            "  ..$ : chr \"The Force Awakens\"\n",
            "  ..$ : chr \"The Force Awakens\"\n",
            "  ..$ : chr [1:3] \"Attack of the Clones\" \"The Phantom Menace\" \"Revenge of the Sith\"\n",
            " $ vehicles  :List of 87\n",
            "  ..$ : chr [1:2] \"Snowspeeder\" \"Imperial Speeder Bike\"\n",
            "  ..$ : chr(0) \n",
            "  ..$ : chr(0) \n",
            "  ..$ : chr(0) \n",
            "  ..$ : chr \"Imperial Speeder Bike\"\n",
            "  ..$ : chr(0) \n",
            "  ..$ : chr(0) \n",
            "  ..$ : chr(0) \n",
            "  ..$ : chr(0) \n",
            "  ..$ : chr \"Tribubble bongo\"\n",
            "  ..$ : chr [1:2] \"Zephyr-G swoop bike\" \"XJ-6 airspeeder\"\n",
            "  ..$ : chr(0) \n",
            "  ..$ : chr \"AT-ST\"\n",
            "  ..$ : chr(0) \n",
            "  ..$ : chr(0) \n",
            "  ..$ : chr(0) \n",
            "  ..$ : chr \"Snowspeeder\"\n",
            "  ..$ : chr(0) \n",
            "  ..$ : chr(0) \n",
            "  ..$ : chr(0) \n",
            "  ..$ : chr(0) \n",
            "  ..$ : chr(0) \n",
            "  ..$ : chr(0) \n",
            "  ..$ : chr(0) \n",
            "  ..$ : chr(0) \n",
            "  ..$ : chr(0) \n",
            "  ..$ : chr(0) \n",
            "  ..$ : chr(0) \n",
            "  ..$ : chr(0) \n",
            "  ..$ : chr(0) \n",
            "  ..$ : chr \"Tribubble bongo\"\n",
            "  ..$ : chr(0) \n",
            "  ..$ : chr(0) \n",
            "  ..$ : chr(0) \n",
            "  ..$ : chr(0) \n",
            "  ..$ : chr(0) \n",
            "  ..$ : chr(0) \n",
            "  ..$ : chr(0) \n",
            "  ..$ : chr(0) \n",
            "  ..$ : chr(0) \n",
            "  ..$ : chr(0) \n",
            "  ..$ : chr \"Sith speeder\"\n",
            "  ..$ : chr(0) \n",
            "  ..$ : chr(0) \n",
            "  ..$ : chr(0) \n",
            "  ..$ : chr(0) \n",
            "  ..$ : chr(0) \n",
            "  ..$ : chr(0) \n",
            "  ..$ : chr(0) \n",
            "  ..$ : chr(0) \n",
            "  ..$ : chr(0) \n",
            "  ..$ : chr(0) \n",
            "  ..$ : chr(0) \n",
            "  ..$ : chr(0) \n",
            "  ..$ : chr(0) \n",
            "  ..$ : chr(0) \n",
            "  ..$ : chr(0) \n",
            "  ..$ : chr(0) \n",
            "  ..$ : chr(0) \n",
            "  ..$ : chr(0) \n",
            "  ..$ : chr(0) \n",
            "  ..$ : chr(0) \n",
            "  ..$ : chr(0) \n",
            "  ..$ : chr \"Flitknot speeder\"\n",
            "  ..$ : chr(0) \n",
            "  ..$ : chr(0) \n",
            "  ..$ : chr \"Koro-2 Exodrive airspeeder\"\n",
            "  ..$ : chr(0) \n",
            "  ..$ : chr(0) \n",
            "  ..$ : chr(0) \n",
            "  ..$ : chr(0) \n",
            "  ..$ : chr(0) \n",
            "  ..$ : chr(0) \n",
            "  ..$ : chr(0) \n",
            "  ..$ : chr(0) \n",
            "  ..$ : chr(0) \n",
            "  ..$ : chr \"Tsmeu-6 personal wheel bike\"\n",
            "  ..$ : chr(0) \n",
            "  ..$ : chr(0) \n",
            "  ..$ : chr(0) \n",
            "  ..$ : chr(0) \n",
            "  ..$ : chr(0) \n",
            "  ..$ : chr(0) \n",
            "  ..$ : chr(0) \n",
            "  ..$ : chr(0) \n",
            "  ..$ : chr(0) \n",
            "  ..$ : chr(0) \n",
            " $ starships :List of 87\n",
            "  ..$ : chr [1:2] \"X-wing\" \"Imperial shuttle\"\n",
            "  ..$ : chr(0) \n",
            "  ..$ : chr(0) \n",
            "  ..$ : chr \"TIE Advanced x1\"\n",
            "  ..$ : chr(0) \n",
            "  ..$ : chr(0) \n",
            "  ..$ : chr(0) \n",
            "  ..$ : chr(0) \n",
            "  ..$ : chr \"X-wing\"\n",
            "  ..$ : chr [1:5] \"Jedi starfighter\" \"Trade Federation cruiser\" \"Naboo star skiff\" \"Jedi Interceptor\" ...\n",
            "  ..$ : chr [1:3] \"Trade Federation cruiser\" \"Jedi Interceptor\" \"Naboo fighter\"\n",
            "  ..$ : chr(0) \n",
            "  ..$ : chr [1:2] \"Millennium Falcon\" \"Imperial shuttle\"\n",
            "  ..$ : chr [1:2] \"Millennium Falcon\" \"Imperial shuttle\"\n",
            "  ..$ : chr(0) \n",
            "  ..$ : chr(0) \n",
            "  ..$ : chr \"X-wing\"\n",
            "  ..$ : chr \"X-wing\"\n",
            "  ..$ : chr(0) \n",
            "  ..$ : chr(0) \n",
            "  ..$ : chr \"Slave 1\"\n",
            "  ..$ : chr(0) \n",
            "  ..$ : chr(0) \n",
            "  ..$ : chr \"Millennium Falcon\"\n",
            "  ..$ : chr(0) \n",
            "  ..$ : chr(0) \n",
            "  ..$ : chr(0) \n",
            "  ..$ : chr \"A-wing\"\n",
            "  ..$ : chr(0) \n",
            "  ..$ : chr \"Millennium Falcon\"\n",
            "  ..$ : chr(0) \n",
            "  ..$ : chr(0) \n",
            "  ..$ : chr(0) \n",
            "  ..$ : chr(0) \n",
            "  ..$ : chr(0) \n",
            "  ..$ : chr(0) \n",
            "  ..$ : chr \"Naboo Royal Starship\"\n",
            "  ..$ : chr(0) \n",
            "  ..$ : chr(0) \n",
            "  ..$ : chr(0) \n",
            "  ..$ : chr(0) \n",
            "  ..$ : chr \"Scimitar\"\n",
            "  ..$ : chr(0) \n",
            "  ..$ : chr(0) \n",
            "  ..$ : chr(0) \n",
            "  ..$ : chr(0) \n",
            "  ..$ : chr(0) \n",
            "  ..$ : chr(0) \n",
            "  ..$ : chr(0) \n",
            "  ..$ : chr(0) \n",
            "  ..$ : chr(0) \n",
            "  ..$ : chr(0) \n",
            "  ..$ : chr(0) \n",
            "  ..$ : chr(0) \n",
            "  ..$ : chr \"Jedi starfighter\"\n",
            "  ..$ : chr(0) \n",
            "  ..$ : chr \"Naboo fighter\"\n",
            "  ..$ : chr(0) \n",
            "  ..$ : chr(0) \n",
            "  ..$ : chr(0) \n",
            "  ..$ : chr(0) \n",
            "  ..$ : chr(0) \n",
            "  ..$ : chr(0) \n",
            "  ..$ : chr(0) \n",
            "  ..$ : chr(0) \n",
            "  ..$ : chr(0) \n",
            "  ..$ : chr(0) \n",
            "  ..$ : chr(0) \n",
            "  ..$ : chr(0) \n",
            "  ..$ : chr(0) \n",
            "  ..$ : chr(0) \n",
            "  ..$ : chr(0) \n",
            "  ..$ : chr(0) \n",
            "  ..$ : chr(0) \n",
            "  ..$ : chr(0) \n",
            "  ..$ : chr(0) \n",
            "  ..$ : chr \"Belbullab-22 starfighter\"\n",
            "  ..$ : chr(0) \n",
            "  ..$ : chr(0) \n",
            "  ..$ : chr(0) \n",
            "  ..$ : chr(0) \n",
            "  ..$ : chr(0) \n",
            "  ..$ : chr(0) \n",
            "  ..$ : chr \"T-70 X-wing fighter\"\n",
            "  ..$ : chr(0) \n",
            "  ..$ : chr(0) \n",
            "  ..$ : chr [1:3] \"H-type Nubian yacht\" \"Naboo star skiff\" \"Naboo fighter\"\n"
          ]
        }
      ]
    },
    {
      "cell_type": "code",
      "source": [
        "head(starwars)"
      ],
      "metadata": {
        "id": "h4a86gRFiSEj",
        "outputId": "9878f845-b6b4-42c4-f37d-299071e18c23",
        "colab": {
          "base_uri": "https://localhost:8080/",
          "height": 599
        }
      },
      "execution_count": 35,
      "outputs": [
        {
          "output_type": "display_data",
          "data": {
            "text/html": [
              "<table class=\"dataframe\">\n",
              "<caption>A tibble: 6 × 14</caption>\n",
              "<thead>\n",
              "\t<tr><th scope=col>name</th><th scope=col>height</th><th scope=col>mass</th><th scope=col>hair_color</th><th scope=col>skin_color</th><th scope=col>eye_color</th><th scope=col>birth_year</th><th scope=col>sex</th><th scope=col>gender</th><th scope=col>homeworld</th><th scope=col>species</th><th scope=col>films</th><th scope=col>vehicles</th><th scope=col>starships</th></tr>\n",
              "\t<tr><th scope=col>&lt;chr&gt;</th><th scope=col>&lt;int&gt;</th><th scope=col>&lt;dbl&gt;</th><th scope=col>&lt;chr&gt;</th><th scope=col>&lt;chr&gt;</th><th scope=col>&lt;chr&gt;</th><th scope=col>&lt;dbl&gt;</th><th scope=col>&lt;chr&gt;</th><th scope=col>&lt;chr&gt;</th><th scope=col>&lt;chr&gt;</th><th scope=col>&lt;chr&gt;</th><th scope=col>&lt;list&gt;</th><th scope=col>&lt;list&gt;</th><th scope=col>&lt;list&gt;</th></tr>\n",
              "</thead>\n",
              "<tbody>\n",
              "\t<tr><td>Luke Skywalker</td><td>172</td><td> 77</td><td>blond      </td><td>fair       </td><td>blue  </td><td> 19.0</td><td>male  </td><td>masculine</td><td>Tatooine</td><td>Human</td><td>The Empire Strikes Back, Revenge of the Sith    , Return of the Jedi     , A New Hope             , The Force Awakens      </td><td>Snowspeeder          , Imperial Speeder Bike</td><td>X-wing          , Imperial shuttle</td></tr>\n",
              "\t<tr><td>C-3PO         </td><td>167</td><td> 75</td><td>NA         </td><td>gold       </td><td>yellow</td><td>112.0</td><td>none  </td><td>masculine</td><td>Tatooine</td><td>Droid</td><td>The Empire Strikes Back, Attack of the Clones   , The Phantom Menace     , Revenge of the Sith    , Return of the Jedi     , A New Hope             </td><td></td><td></td></tr>\n",
              "\t<tr><td>R2-D2         </td><td> 96</td><td> 32</td><td>NA         </td><td>white, blue</td><td>red   </td><td> 33.0</td><td>none  </td><td>masculine</td><td>Naboo   </td><td>Droid</td><td>The Empire Strikes Back, Attack of the Clones   , The Phantom Menace     , Revenge of the Sith    , Return of the Jedi     , A New Hope             , The Force Awakens      </td><td></td><td></td></tr>\n",
              "\t<tr><td>Darth Vader   </td><td>202</td><td>136</td><td>none       </td><td>white      </td><td>yellow</td><td> 41.9</td><td>male  </td><td>masculine</td><td>Tatooine</td><td>Human</td><td>The Empire Strikes Back, Revenge of the Sith    , Return of the Jedi     , A New Hope             </td><td></td><td>TIE Advanced x1</td></tr>\n",
              "\t<tr><td>Leia Organa   </td><td>150</td><td> 49</td><td>brown      </td><td>light      </td><td>brown </td><td> 19.0</td><td>female</td><td>feminine </td><td>Alderaan</td><td>Human</td><td>The Empire Strikes Back, Revenge of the Sith    , Return of the Jedi     , A New Hope             , The Force Awakens      </td><td>Imperial Speeder Bike</td><td></td></tr>\n",
              "\t<tr><td>Owen Lars     </td><td>178</td><td>120</td><td>brown, grey</td><td>light      </td><td>blue  </td><td> 52.0</td><td>male  </td><td>masculine</td><td>Tatooine</td><td>Human</td><td>Attack of the Clones, Revenge of the Sith , A New Hope          </td><td></td><td></td></tr>\n",
              "</tbody>\n",
              "</table>\n"
            ],
            "text/markdown": "\nA tibble: 6 × 14\n\n| name &lt;chr&gt; | height &lt;int&gt; | mass &lt;dbl&gt; | hair_color &lt;chr&gt; | skin_color &lt;chr&gt; | eye_color &lt;chr&gt; | birth_year &lt;dbl&gt; | sex &lt;chr&gt; | gender &lt;chr&gt; | homeworld &lt;chr&gt; | species &lt;chr&gt; | films &lt;list&gt; | vehicles &lt;list&gt; | starships &lt;list&gt; |\n|---|---|---|---|---|---|---|---|---|---|---|---|---|---|\n| Luke Skywalker | 172 |  77 | blond       | fair        | blue   |  19.0 | male   | masculine | Tatooine | Human | The Empire Strikes Back, Revenge of the Sith    , Return of the Jedi     , A New Hope             , The Force Awakens       | Snowspeeder          , Imperial Speeder Bike | X-wing          , Imperial shuttle |\n| C-3PO          | 167 |  75 | NA          | gold        | yellow | 112.0 | none   | masculine | Tatooine | Droid | The Empire Strikes Back, Attack of the Clones   , The Phantom Menace     , Revenge of the Sith    , Return of the Jedi     , A New Hope              | <!----> | <!----> |\n| R2-D2          |  96 |  32 | NA          | white, blue | red    |  33.0 | none   | masculine | Naboo    | Droid | The Empire Strikes Back, Attack of the Clones   , The Phantom Menace     , Revenge of the Sith    , Return of the Jedi     , A New Hope             , The Force Awakens       | <!----> | <!----> |\n| Darth Vader    | 202 | 136 | none        | white       | yellow |  41.9 | male   | masculine | Tatooine | Human | The Empire Strikes Back, Revenge of the Sith    , Return of the Jedi     , A New Hope              | <!----> | TIE Advanced x1 |\n| Leia Organa    | 150 |  49 | brown       | light       | brown  |  19.0 | female | feminine  | Alderaan | Human | The Empire Strikes Back, Revenge of the Sith    , Return of the Jedi     , A New Hope             , The Force Awakens       | Imperial Speeder Bike | <!----> |\n| Owen Lars      | 178 | 120 | brown, grey | light       | blue   |  52.0 | male   | masculine | Tatooine | Human | Attack of the Clones, Revenge of the Sith , A New Hope           | <!----> | <!----> |\n\n",
            "text/latex": "A tibble: 6 × 14\n\\begin{tabular}{llllllllllllll}\n name & height & mass & hair\\_color & skin\\_color & eye\\_color & birth\\_year & sex & gender & homeworld & species & films & vehicles & starships\\\\\n <chr> & <int> & <dbl> & <chr> & <chr> & <chr> & <dbl> & <chr> & <chr> & <chr> & <chr> & <list> & <list> & <list>\\\\\n\\hline\n\t Luke Skywalker & 172 &  77 & blond       & fair        & blue   &  19.0 & male   & masculine & Tatooine & Human & The Empire Strikes Back, Revenge of the Sith    , Return of the Jedi     , A New Hope             , The Force Awakens       & Snowspeeder          , Imperial Speeder Bike & X-wing          , Imperial shuttle\\\\\n\t C-3PO          & 167 &  75 & NA          & gold        & yellow & 112.0 & none   & masculine & Tatooine & Droid & The Empire Strikes Back, Attack of the Clones   , The Phantom Menace     , Revenge of the Sith    , Return of the Jedi     , A New Hope              &  & \\\\\n\t R2-D2          &  96 &  32 & NA          & white, blue & red    &  33.0 & none   & masculine & Naboo    & Droid & The Empire Strikes Back, Attack of the Clones   , The Phantom Menace     , Revenge of the Sith    , Return of the Jedi     , A New Hope             , The Force Awakens       &  & \\\\\n\t Darth Vader    & 202 & 136 & none        & white       & yellow &  41.9 & male   & masculine & Tatooine & Human & The Empire Strikes Back, Revenge of the Sith    , Return of the Jedi     , A New Hope              &  & TIE Advanced x1\\\\\n\t Leia Organa    & 150 &  49 & brown       & light       & brown  &  19.0 & female & feminine  & Alderaan & Human & The Empire Strikes Back, Revenge of the Sith    , Return of the Jedi     , A New Hope             , The Force Awakens       & Imperial Speeder Bike & \\\\\n\t Owen Lars      & 178 & 120 & brown, grey & light       & blue   &  52.0 & male   & masculine & Tatooine & Human & Attack of the Clones, Revenge of the Sith , A New Hope           &  & \\\\\n\\end{tabular}\n",
            "text/plain": [
              "  name           height mass hair_color  skin_color  eye_color birth_year\n",
              "1 Luke Skywalker 172     77  blond       fair        blue       19.0     \n",
              "2 C-3PO          167     75  NA          gold        yellow    112.0     \n",
              "3 R2-D2           96     32  NA          white, blue red        33.0     \n",
              "4 Darth Vader    202    136  none        white       yellow     41.9     \n",
              "5 Leia Organa    150     49  brown       light       brown      19.0     \n",
              "6 Owen Lars      178    120  brown, grey light       blue       52.0     \n",
              "  sex    gender    homeworld species\n",
              "1 male   masculine Tatooine  Human  \n",
              "2 none   masculine Tatooine  Droid  \n",
              "3 none   masculine Naboo     Droid  \n",
              "4 male   masculine Tatooine  Human  \n",
              "5 female feminine  Alderaan  Human  \n",
              "6 male   masculine Tatooine  Human  \n",
              "  films                                                                                                                                                                        \n",
              "1 The Empire Strikes Back, Revenge of the Sith    , Return of the Jedi     , A New Hope             , The Force Awakens                                                        \n",
              "2 The Empire Strikes Back, Attack of the Clones   , The Phantom Menace     , Revenge of the Sith    , Return of the Jedi     , A New Hope                                      \n",
              "3 The Empire Strikes Back, Attack of the Clones   , The Phantom Menace     , Revenge of the Sith    , Return of the Jedi     , A New Hope             , The Force Awakens      \n",
              "4 The Empire Strikes Back, Revenge of the Sith    , Return of the Jedi     , A New Hope                                                                                        \n",
              "5 The Empire Strikes Back, Revenge of the Sith    , Return of the Jedi     , A New Hope             , The Force Awakens                                                        \n",
              "6 Attack of the Clones, Revenge of the Sith , A New Hope                                                                                                                       \n",
              "  vehicles                                    \n",
              "1 Snowspeeder          , Imperial Speeder Bike\n",
              "2                                             \n",
              "3                                             \n",
              "4                                             \n",
              "5 Imperial Speeder Bike                       \n",
              "6                                             \n",
              "  starships                         \n",
              "1 X-wing          , Imperial shuttle\n",
              "2                                   \n",
              "3                                   \n",
              "4 TIE Advanced x1                   \n",
              "5                                   \n",
              "6                                   "
            ]
          },
          "metadata": {}
        }
      ]
    },
    {
      "cell_type": "code",
      "source": [
        "#Create a query using tidyverse that retrieves the following data\n",
        "query <- starwars %>%\n",
        "  select(name, height, sex, species) %>%\n",
        "  filter(species == \"Human\") %>%\n",
        "  arrange(name)\n",
        "query"
      ],
      "metadata": {
        "id": "FxpSnTMBihvb",
        "outputId": "178c196e-e784-4c5a-fc15-6ca47697686e",
        "colab": {
          "base_uri": "https://localhost:8080/",
          "height": 1000
        }
      },
      "execution_count": 41,
      "outputs": [
        {
          "output_type": "display_data",
          "data": {
            "text/html": [
              "<table class=\"dataframe\">\n",
              "<caption>A tibble: 35 × 4</caption>\n",
              "<thead>\n",
              "\t<tr><th scope=col>name</th><th scope=col>height</th><th scope=col>sex</th><th scope=col>species</th></tr>\n",
              "\t<tr><th scope=col>&lt;chr&gt;</th><th scope=col>&lt;int&gt;</th><th scope=col>&lt;chr&gt;</th><th scope=col>&lt;chr&gt;</th></tr>\n",
              "</thead>\n",
              "<tbody>\n",
              "\t<tr><td>Anakin Skywalker   </td><td>188</td><td>male  </td><td>Human</td></tr>\n",
              "\t<tr><td>Arvel Crynyd       </td><td> NA</td><td>male  </td><td>Human</td></tr>\n",
              "\t<tr><td>Bail Prestor Organa</td><td>191</td><td>male  </td><td>Human</td></tr>\n",
              "\t<tr><td>Beru Whitesun lars </td><td>165</td><td>female</td><td>Human</td></tr>\n",
              "\t<tr><td>Biggs Darklighter  </td><td>183</td><td>male  </td><td>Human</td></tr>\n",
              "\t<tr><td>Boba Fett          </td><td>183</td><td>male  </td><td>Human</td></tr>\n",
              "\t<tr><td>Cliegg Lars        </td><td>183</td><td>male  </td><td>Human</td></tr>\n",
              "\t<tr><td>Cordé              </td><td>157</td><td>female</td><td>Human</td></tr>\n",
              "\t<tr><td>Darth Vader        </td><td>202</td><td>male  </td><td>Human</td></tr>\n",
              "\t<tr><td>Dooku              </td><td>193</td><td>male  </td><td>Human</td></tr>\n",
              "\t<tr><td>Dormé              </td><td>165</td><td>female</td><td>Human</td></tr>\n",
              "\t<tr><td>Finis Valorum      </td><td>170</td><td>male  </td><td>Human</td></tr>\n",
              "\t<tr><td>Finn               </td><td> NA</td><td>male  </td><td>Human</td></tr>\n",
              "\t<tr><td>Gregar Typho       </td><td>185</td><td>male  </td><td>Human</td></tr>\n",
              "\t<tr><td>Han Solo           </td><td>180</td><td>male  </td><td>Human</td></tr>\n",
              "\t<tr><td>Jango Fett         </td><td>183</td><td>male  </td><td>Human</td></tr>\n",
              "\t<tr><td>Jek Tono Porkins   </td><td>180</td><td>male  </td><td>Human</td></tr>\n",
              "\t<tr><td>Jocasta Nu         </td><td>167</td><td>female</td><td>Human</td></tr>\n",
              "\t<tr><td>Lando Calrissian   </td><td>177</td><td>male  </td><td>Human</td></tr>\n",
              "\t<tr><td>Leia Organa        </td><td>150</td><td>female</td><td>Human</td></tr>\n",
              "\t<tr><td>Lobot              </td><td>175</td><td>male  </td><td>Human</td></tr>\n",
              "\t<tr><td>Luke Skywalker     </td><td>172</td><td>male  </td><td>Human</td></tr>\n",
              "\t<tr><td>Mace Windu         </td><td>188</td><td>male  </td><td>Human</td></tr>\n",
              "\t<tr><td>Mon Mothma         </td><td>150</td><td>female</td><td>Human</td></tr>\n",
              "\t<tr><td>Obi-Wan Kenobi     </td><td>182</td><td>male  </td><td>Human</td></tr>\n",
              "\t<tr><td>Owen Lars          </td><td>178</td><td>male  </td><td>Human</td></tr>\n",
              "\t<tr><td>Padmé Amidala      </td><td>165</td><td>female</td><td>Human</td></tr>\n",
              "\t<tr><td>Palpatine          </td><td>170</td><td>male  </td><td>Human</td></tr>\n",
              "\t<tr><td>Poe Dameron        </td><td> NA</td><td>male  </td><td>Human</td></tr>\n",
              "\t<tr><td>Qui-Gon Jinn       </td><td>193</td><td>male  </td><td>Human</td></tr>\n",
              "\t<tr><td>Raymus Antilles    </td><td>188</td><td>male  </td><td>Human</td></tr>\n",
              "\t<tr><td>Rey                </td><td> NA</td><td>female</td><td>Human</td></tr>\n",
              "\t<tr><td>Shmi Skywalker     </td><td>163</td><td>female</td><td>Human</td></tr>\n",
              "\t<tr><td>Wedge Antilles     </td><td>170</td><td>male  </td><td>Human</td></tr>\n",
              "\t<tr><td>Wilhuff Tarkin     </td><td>180</td><td>male  </td><td>Human</td></tr>\n",
              "</tbody>\n",
              "</table>\n"
            ],
            "text/markdown": "\nA tibble: 35 × 4\n\n| name &lt;chr&gt; | height &lt;int&gt; | sex &lt;chr&gt; | species &lt;chr&gt; |\n|---|---|---|---|\n| Anakin Skywalker    | 188 | male   | Human |\n| Arvel Crynyd        |  NA | male   | Human |\n| Bail Prestor Organa | 191 | male   | Human |\n| Beru Whitesun lars  | 165 | female | Human |\n| Biggs Darklighter   | 183 | male   | Human |\n| Boba Fett           | 183 | male   | Human |\n| Cliegg Lars         | 183 | male   | Human |\n| Cordé               | 157 | female | Human |\n| Darth Vader         | 202 | male   | Human |\n| Dooku               | 193 | male   | Human |\n| Dormé               | 165 | female | Human |\n| Finis Valorum       | 170 | male   | Human |\n| Finn                |  NA | male   | Human |\n| Gregar Typho        | 185 | male   | Human |\n| Han Solo            | 180 | male   | Human |\n| Jango Fett          | 183 | male   | Human |\n| Jek Tono Porkins    | 180 | male   | Human |\n| Jocasta Nu          | 167 | female | Human |\n| Lando Calrissian    | 177 | male   | Human |\n| Leia Organa         | 150 | female | Human |\n| Lobot               | 175 | male   | Human |\n| Luke Skywalker      | 172 | male   | Human |\n| Mace Windu          | 188 | male   | Human |\n| Mon Mothma          | 150 | female | Human |\n| Obi-Wan Kenobi      | 182 | male   | Human |\n| Owen Lars           | 178 | male   | Human |\n| Padmé Amidala       | 165 | female | Human |\n| Palpatine           | 170 | male   | Human |\n| Poe Dameron         |  NA | male   | Human |\n| Qui-Gon Jinn        | 193 | male   | Human |\n| Raymus Antilles     | 188 | male   | Human |\n| Rey                 |  NA | female | Human |\n| Shmi Skywalker      | 163 | female | Human |\n| Wedge Antilles      | 170 | male   | Human |\n| Wilhuff Tarkin      | 180 | male   | Human |\n\n",
            "text/latex": "A tibble: 35 × 4\n\\begin{tabular}{llll}\n name & height & sex & species\\\\\n <chr> & <int> & <chr> & <chr>\\\\\n\\hline\n\t Anakin Skywalker    & 188 & male   & Human\\\\\n\t Arvel Crynyd        &  NA & male   & Human\\\\\n\t Bail Prestor Organa & 191 & male   & Human\\\\\n\t Beru Whitesun lars  & 165 & female & Human\\\\\n\t Biggs Darklighter   & 183 & male   & Human\\\\\n\t Boba Fett           & 183 & male   & Human\\\\\n\t Cliegg Lars         & 183 & male   & Human\\\\\n\t Cordé               & 157 & female & Human\\\\\n\t Darth Vader         & 202 & male   & Human\\\\\n\t Dooku               & 193 & male   & Human\\\\\n\t Dormé               & 165 & female & Human\\\\\n\t Finis Valorum       & 170 & male   & Human\\\\\n\t Finn                &  NA & male   & Human\\\\\n\t Gregar Typho        & 185 & male   & Human\\\\\n\t Han Solo            & 180 & male   & Human\\\\\n\t Jango Fett          & 183 & male   & Human\\\\\n\t Jek Tono Porkins    & 180 & male   & Human\\\\\n\t Jocasta Nu          & 167 & female & Human\\\\\n\t Lando Calrissian    & 177 & male   & Human\\\\\n\t Leia Organa         & 150 & female & Human\\\\\n\t Lobot               & 175 & male   & Human\\\\\n\t Luke Skywalker      & 172 & male   & Human\\\\\n\t Mace Windu          & 188 & male   & Human\\\\\n\t Mon Mothma          & 150 & female & Human\\\\\n\t Obi-Wan Kenobi      & 182 & male   & Human\\\\\n\t Owen Lars           & 178 & male   & Human\\\\\n\t Padmé Amidala       & 165 & female & Human\\\\\n\t Palpatine           & 170 & male   & Human\\\\\n\t Poe Dameron         &  NA & male   & Human\\\\\n\t Qui-Gon Jinn        & 193 & male   & Human\\\\\n\t Raymus Antilles     & 188 & male   & Human\\\\\n\t Rey                 &  NA & female & Human\\\\\n\t Shmi Skywalker      & 163 & female & Human\\\\\n\t Wedge Antilles      & 170 & male   & Human\\\\\n\t Wilhuff Tarkin      & 180 & male   & Human\\\\\n\\end{tabular}\n",
            "text/plain": [
              "   name                height sex    species\n",
              "1  Anakin Skywalker    188    male   Human  \n",
              "2  Arvel Crynyd         NA    male   Human  \n",
              "3  Bail Prestor Organa 191    male   Human  \n",
              "4  Beru Whitesun lars  165    female Human  \n",
              "5  Biggs Darklighter   183    male   Human  \n",
              "6  Boba Fett           183    male   Human  \n",
              "7  Cliegg Lars         183    male   Human  \n",
              "8  Cordé               157    female Human  \n",
              "9  Darth Vader         202    male   Human  \n",
              "10 Dooku               193    male   Human  \n",
              "11 Dormé               165    female Human  \n",
              "12 Finis Valorum       170    male   Human  \n",
              "13 Finn                 NA    male   Human  \n",
              "14 Gregar Typho        185    male   Human  \n",
              "15 Han Solo            180    male   Human  \n",
              "16 Jango Fett          183    male   Human  \n",
              "17 Jek Tono Porkins    180    male   Human  \n",
              "18 Jocasta Nu          167    female Human  \n",
              "19 Lando Calrissian    177    male   Human  \n",
              "20 Leia Organa         150    female Human  \n",
              "21 Lobot               175    male   Human  \n",
              "22 Luke Skywalker      172    male   Human  \n",
              "23 Mace Windu          188    male   Human  \n",
              "24 Mon Mothma          150    female Human  \n",
              "25 Obi-Wan Kenobi      182    male   Human  \n",
              "26 Owen Lars           178    male   Human  \n",
              "27 Padmé Amidala       165    female Human  \n",
              "28 Palpatine           170    male   Human  \n",
              "29 Poe Dameron          NA    male   Human  \n",
              "30 Qui-Gon Jinn        193    male   Human  \n",
              "31 Raymus Antilles     188    male   Human  \n",
              "32 Rey                  NA    female Human  \n",
              "33 Shmi Skywalker      163    female Human  \n",
              "34 Wedge Antilles      170    male   Human  \n",
              "35 Wilhuff Tarkin      180    male   Human  "
            ]
          },
          "metadata": {}
        }
      ]
    }
  ]
}