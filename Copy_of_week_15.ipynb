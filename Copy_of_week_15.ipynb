{
  "nbformat": 4,
  "nbformat_minor": 0,
  "metadata": {
    "colab": {
      "provenance": [],
      "include_colab_link": true
    },
    "kernelspec": {
      "name": "ir",
      "display_name": "R"
    },
    "language_info": {
      "name": "R"
    }
  },
  "cells": [
    {
      "cell_type": "markdown",
      "metadata": {
        "id": "view-in-github",
        "colab_type": "text"
      },
      "source": [
        "<a href=\"https://colab.research.google.com/github/Elizabethav03/ds1002-ezu7cg/blob/main/Copy_of_week_15.ipynb\" target=\"_parent\"><img src=\"https://colab.research.google.com/assets/colab-badge.svg\" alt=\"Open In Colab\"/></a>"
      ]
    },
    {
      "cell_type": "markdown",
      "source": [
        "# Homework - Week 15\n",
        "\n",
        "Complete the following blocks as specified in the directions. Run each cell to return the desired output. Save your notebook back to your GitHub repository and submit the GitHub URL to your notebook for review."
      ],
      "metadata": {
        "id": "sZruw3XQogej"
      }
    },
    {
      "cell_type": "markdown",
      "source": [
        "## 1. Create Functions (4 pts)\n",
        "\n",
        "Create two functions in the cells below, according to the prompts given."
      ],
      "metadata": {
        "id": "lkaofBQypx1X"
      }
    },
    {
      "cell_type": "code",
      "source": [
        "# create a function in R that:\n",
        "#   1. takes a single integer as an input parameter\n",
        "#   2. determines whether the integer is even or odd\n",
        "#   3. returns a character statement \"The integer <x> is even\" or \"The integer <x> is odd\" (replace <x> with the actual input provided)\n",
        "#\n",
        "is_odd <- function(x) {\n",
        "  if (x %% 2 == 0) {\n",
        "    print(paste(\"The integer\", x, \"is even\"))\n",
        "  } else {\n",
        "    print(paste(\"The integer\", x, \"is odd\"))\n",
        "  }\n",
        "}\n",
        "\n",
        "# then execute the function twice using two different input values, displaying even and odd results.\n",
        "input_integer <- 11\n",
        "is_odd(input_integer)\n",
        "\n",
        "input_integer <- 12\n",
        "is_odd(input_integer)"
      ],
      "metadata": {
        "id": "1fjq5bkEp6Zv",
        "outputId": "27da0721-a04e-45e4-e8cb-85a5ab95b104",
        "colab": {
          "base_uri": "https://localhost:8080/"
        }
      },
      "execution_count": 40,
      "outputs": [
        {
          "output_type": "stream",
          "name": "stdout",
          "text": [
            "[1] \"The integer 11 is odd\"\n",
            "[1] \"The integer 12 is even\"\n"
          ]
        }
      ]
    },
    {
      "cell_type": "code",
      "source": [
        "# create a function in R that:\n",
        "#   1. takes 4 integer input parameters\n",
        "#   2. returns the mean value of the inputs\n",
        "#   3. has default values for the 4 input parameters, in case they are not provided when the function is called.\n",
        "#\n",
        "# then execute the function twice: once where you provide the input values, and once where you do not.\n",
        "\n",
        "calculate_mean <- function(param1 = 0, param2 = 0, param3 = 0, param4 = 0) {\n",
        "  #doing the math part\n",
        "  mean_value <- mean(c(param1, param2, param3, param4))\n",
        "\n",
        "  return(mean_value)\n",
        "}\n",
        "# Execute the function twice: once where you provide the input values, and once where you do not.\n",
        "\n",
        "# Example with input values\n",
        "with_values <- calculate_mean(15, 20, 25, 30)\n",
        "print(paste(\"Mean with values:\", with_values))\n",
        "\n",
        "# Example without input values\n",
        "without_values <- calculate_mean()\n",
        "print(paste(\"Mean without values :\", without_values))"
      ],
      "metadata": {
        "id": "f3IFD-T6p6Rd",
        "colab": {
          "base_uri": "https://localhost:8080/"
        },
        "outputId": "61806034-7ef5-4704-89a6-1e453b8b2c89"
      },
      "execution_count": 41,
      "outputs": [
        {
          "output_type": "stream",
          "name": "stdout",
          "text": [
            "[1] \"Mean with values: 22.5\"\n",
            "[1] \"Mean without values : 0\"\n"
          ]
        }
      ]
    },
    {
      "cell_type": "markdown",
      "source": [
        "## 2. Plot Data (4 pts)"
      ],
      "metadata": {
        "id": "F6Rx0GIGrpOB"
      }
    },
    {
      "cell_type": "markdown",
      "source": [
        "In the cell below, write the code required to plot from the `msleep` sample data set.\n",
        "\n",
        "1. Display only animals with body weights of 30 or greater.\n",
        "2. Group the animals by `order`.\n",
        "3. Display the mean `sleep_total` for each group in a bar plot."
      ],
      "metadata": {
        "id": "IDLyOjOJsFCX"
      }
    },
    {
      "cell_type": "code",
      "source": [
        "# loading data set\n",
        "library(ggplot2)\n",
        "data(msleep)"
      ],
      "metadata": {
        "id": "0D5Ia-BPsoPZ"
      },
      "execution_count": 9,
      "outputs": []
    },
    {
      "cell_type": "code",
      "source": [
        "# Display only animals with body weights of 30 or greater.\n",
        "animal_weight <- msleep[msleep$bodywt >= 30, ]"
      ],
      "metadata": {
        "id": "BOn8OuZOs1eO"
      },
      "execution_count": 10,
      "outputs": []
    },
    {
      "cell_type": "code",
      "source": [
        "library(ggplot2)\n",
        "\n",
        "# Load the msleep dataset\n",
        "data(msleep)\n",
        "\n",
        "# Filter animals with body weights of 30 or greater\n",
        "filtered_data <- msleep[msleep$bodywt >= 30, ]\n",
        "\n",
        "# Use aggregate to calculate the mean sleep_total for each group\n",
        "grouped_data <- aggregate(sleep_total ~ order, data = filtered_data, FUN = mean)\n",
        "\n",
        "# Create a bar plot using ggplot2\n",
        "ggplot(grouped_data, aes(x = order, y = sleep_total)) +\n",
        "  geom_bar(stat = \"identity\", fill = \"purple\")\n"
      ],
      "metadata": {
        "colab": {
          "base_uri": "https://localhost:8080/",
          "height": 437
        },
        "id": "TWzgZW6RlZDM",
        "outputId": "7e9b883e-258e-4400-f875-6332d9251c8a"
      },
      "execution_count": 14,
      "outputs": [
        {
          "output_type": "display_data",
          "data": {
            "text/plain": [
              "plot without title"
            ],
            "image/png": "[encoded data removed]"
          },
          "metadata": {
            "image/png": {
              "width": 420,
              "height": 420
            }
          }
        }
      ]
    },
    {
      "cell_type": "markdown",
      "source": [
        "## 3. Clean and Analyze Data Using R (4 pts)\n",
        "\n",
        "In the cells below use R to perform the following data cleaning steps on this file:\n",
        "https://raw.githubusercontent.com/nmagee/ds1002/main/data/social-media-users.csv\n",
        "\n",
        "1. Remove any duplicate rows.\n",
        "2. Remove any records where `last_login` or `birthdate` are empty.\n",
        "3. Display only the records with the 10 highest `follower` counts.\n",
        "4. Determine counts of users when grouped by continent."
      ],
      "metadata": {
        "id": "-2ZaFcCCv3o8"
      }
    },
    {
      "cell_type": "code",
      "source": [
        "df <- read.csv(\"https://raw.githubusercontent.com/nmagee/ds1002/main/data/social-media-users.csv\")\n",
        "nrow(df[duplicated(df), ])"
      ],
      "metadata": {
        "id": "V4nBsdVsyauQ",
        "outputId": "5be9635e-f9c3-4350-f59c-cc3f0bfb1c75",
        "colab": {
          "base_uri": "https://localhost:8080/",
          "height": 34
        }
      },
      "execution_count": 42,
      "outputs": [
        {
          "output_type": "display_data",
          "data": {
            "text/html": [
              "318"
            ],
            "text/markdown": "318",
            "text/latex": "318",
            "text/plain": [
              "[1] 318"
            ]
          },
          "metadata": {}
        }
      ]
    },
    {
      "cell_type": "code",
      "source": [
        "library(dplyr)\n",
        "df <- df %>% distinct()\n"
      ],
      "metadata": {
        "id": "8zfTS-f5Bxyf"
      },
      "execution_count": 32,
      "outputs": []
    },
    {
      "cell_type": "code",
      "source": [
        "df <- df %>% filter(!is.na(last_login) & !is.na(birthdate))"
      ],
      "metadata": {
        "id": "ZAbCPn2lqDcI"
      },
      "execution_count": 24,
      "outputs": []
    },
    {
      "cell_type": "code",
      "source": [
        "top_10_followers <- df %>% (10, follower_count)\n",
        "print(\"Top 10 Users by Follower Count:\")\n",
        "print(top_10_followers)"
      ],
      "metadata": {
        "colab": {
          "base_uri": "https://localhost:8080/",
          "height": 141
        },
        "id": "TVT6baBnqzzF",
        "outputId": "9d169936-4f30-4450-fc32-7377adb448ea"
      },
      "execution_count": 34,
      "outputs": [
        {
          "output_type": "error",
          "ename": "ERROR",
          "evalue": "ignored",
          "traceback": [
            "Error in parse(text = x, srcfile = src): <text>:1:31: unexpected ','\n1: top_10_followers <- df %>% (10,\n                                  ^\nTraceback:\n"
          ]
        }
      ]
    },
    {
      "cell_type": "code",
      "source": [
        "# Determine counts of users when grouped by continent\n",
        "user_by_continent <- df %>% group_by(continent) %>% summarize(user_count = n())\n",
        "print(user_by_continent)"
      ],
      "metadata": {
        "id": "LwXD1sNulIT3",
        "colab": {
          "base_uri": "https://localhost:8080/"
        },
        "outputId": "a51b8210-eafa-4f97-a9df-40e51be08354"
      },
      "execution_count": 39,
      "outputs": [
        {
          "output_type": "stream",
          "name": "stdout",
          "text": [
            "\u001b[90m# A tibble: 7 × 2\u001b[39m\n",
            "  continent user_count\n",
            "  \u001b[3m\u001b[90m<chr>\u001b[39m\u001b[23m          \u001b[3m\u001b[90m<int>\u001b[39m\u001b[23m\n",
            "\u001b[90m1\u001b[39m AF               103\n",
            "\u001b[90m2\u001b[39m AN                 1\n",
            "\u001b[90m3\u001b[39m AS               182\n",
            "\u001b[90m4\u001b[39m EU               127\n",
            "\u001b[90m5\u001b[39m OC               148\n",
            "\u001b[90m6\u001b[39m SA                92\n",
            "\u001b[90m7\u001b[39m \u001b[31mNA\u001b[39m               347\n"
          ]
        }
      ]
    }
  ]
}